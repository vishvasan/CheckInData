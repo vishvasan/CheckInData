{
 "cells": [
  {
   "cell_type": "code",
   "execution_count": 13,
   "metadata": {
    "collapsed": true
   },
   "outputs": [],
   "source": [
    "import pandas as pd\n",
    "import numpy as np"
   ]
  },
  {
   "cell_type": "code",
   "execution_count": 14,
   "metadata": {},
   "outputs": [
    {
     "data": {
      "text/html": [
       "<div>\n",
       "<style>\n",
       "    .dataframe thead tr:only-child th {\n",
       "        text-align: right;\n",
       "    }\n",
       "\n",
       "    .dataframe thead th {\n",
       "        text-align: left;\n",
       "    }\n",
       "\n",
       "    .dataframe tbody tr th {\n",
       "        vertical-align: top;\n",
       "    }\n",
       "</style>\n",
       "<table border=\"1\" class=\"dataframe\">\n",
       "  <thead>\n",
       "    <tr style=\"text-align: right;\">\n",
       "      <th></th>\n",
       "      <th>Unnamed: 0</th>\n",
       "      <th>user</th>\n",
       "      <th>xcoordinate</th>\n",
       "      <th>ycoordinate</th>\n",
       "    </tr>\n",
       "  </thead>\n",
       "  <tbody>\n",
       "    <tr>\n",
       "      <th>count</th>\n",
       "      <td>25668.000000</td>\n",
       "      <td>25668.000000</td>\n",
       "      <td>25668.000000</td>\n",
       "      <td>25668.000000</td>\n",
       "    </tr>\n",
       "    <tr>\n",
       "      <th>mean</th>\n",
       "      <td>12833.500000</td>\n",
       "      <td>38.167680</td>\n",
       "      <td>0.491567</td>\n",
       "      <td>0.437083</td>\n",
       "    </tr>\n",
       "    <tr>\n",
       "      <th>std</th>\n",
       "      <td>7409.857691</td>\n",
       "      <td>30.528581</td>\n",
       "      <td>0.474552</td>\n",
       "      <td>0.515695</td>\n",
       "    </tr>\n",
       "    <tr>\n",
       "      <th>min</th>\n",
       "      <td>0.000000</td>\n",
       "      <td>0.000000</td>\n",
       "      <td>-0.300062</td>\n",
       "      <td>-0.290196</td>\n",
       "    </tr>\n",
       "    <tr>\n",
       "      <th>25%</th>\n",
       "      <td>6416.750000</td>\n",
       "      <td>9.000000</td>\n",
       "      <td>0.211375</td>\n",
       "      <td>-0.025581</td>\n",
       "    </tr>\n",
       "    <tr>\n",
       "      <th>50%</th>\n",
       "      <td>12833.500000</td>\n",
       "      <td>34.000000</td>\n",
       "      <td>0.403102</td>\n",
       "      <td>0.312886</td>\n",
       "    </tr>\n",
       "    <tr>\n",
       "      <th>75%</th>\n",
       "      <td>19250.250000</td>\n",
       "      <td>63.000000</td>\n",
       "      <td>0.929187</td>\n",
       "      <td>0.883513</td>\n",
       "    </tr>\n",
       "    <tr>\n",
       "      <th>max</th>\n",
       "      <td>25667.000000</td>\n",
       "      <td>99.000000</td>\n",
       "      <td>1.369517</td>\n",
       "      <td>1.357176</td>\n",
       "    </tr>\n",
       "  </tbody>\n",
       "</table>\n",
       "</div>"
      ],
      "text/plain": [
       "         Unnamed: 0          user   xcoordinate   ycoordinate\n",
       "count  25668.000000  25668.000000  25668.000000  25668.000000\n",
       "mean   12833.500000     38.167680      0.491567      0.437083\n",
       "std     7409.857691     30.528581      0.474552      0.515695\n",
       "min        0.000000      0.000000     -0.300062     -0.290196\n",
       "25%     6416.750000      9.000000      0.211375     -0.025581\n",
       "50%    12833.500000     34.000000      0.403102      0.312886\n",
       "75%    19250.250000     63.000000      0.929187      0.883513\n",
       "max    25667.000000     99.000000      1.369517      1.357176"
      ]
     },
     "execution_count": 14,
     "metadata": {},
     "output_type": "execute_result"
    }
   ],
   "source": [
    "df = pd.read_csv(\"checkin_dataset.csv\")\n",
    "df.timestamp.unique()\n",
    "df.user.unique()\n",
    "df.xcoordinate.unique()\n",
    "df.ycoordinate.unique()\n",
    "df.timestamp.value_counts()\n",
    "df.user.value_counts()\n",
    "df.xcoordinate.value_counts()\n",
    "df.ycoordinate.value_counts()\n",
    "df.describe()"
   ]
  },
  {
   "cell_type": "code",
   "execution_count": null,
   "metadata": {
    "collapsed": true
   },
   "outputs": [],
   "source": []
  }
 ],
 "metadata": {
  "kernelspec": {
   "display_name": "Python 3",
   "language": "python",
   "name": "python3"
  },
  "language_info": {
   "codemirror_mode": {
    "name": "ipython",
    "version": 3
   },
   "file_extension": ".py",
   "mimetype": "text/x-python",
   "name": "python",
   "nbconvert_exporter": "python",
   "pygments_lexer": "ipython3",
   "version": "3.6.2"
  }
 },
 "nbformat": 4,
 "nbformat_minor": 2
}
